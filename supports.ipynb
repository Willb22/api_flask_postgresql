{
 "cells": [
  {
   "cell_type": "markdown",
   "metadata": {},
   "source": [
    "### Intallations et mise en place"
   ]
  },
  {
   "cell_type": "markdown",
   "metadata": {},
   "source": [
    "Ce projet est codé en python3"
   ]
  },
  {
   "cell_type": "markdown",
   "metadata": {},
   "source": [
    "Pour installer les librairies python nécessaires au fonctionnement de l'environnement virtuel, exécuter le fichier install_packages"
   ]
  },
  {
   "cell_type": "code",
   "execution_count": null,
   "metadata": {},
   "outputs": [],
   "source": [
    "! ./install_packages"
   ]
  },
  {
   "cell_type": "markdown",
   "metadata": {},
   "source": [
    "Pour créer la base de données utilisée pour ce projet, sur le serveur de votre choix, configurez et lancez le script create_db.py \n",
    "\n",
    "Pour ceci, stockez votre mot de passe postgresql dans la variable environnement PASSPOSTGRES"
   ]
  },
  {
   "cell_type": "code",
   "execution_count": null,
   "metadata": {},
   "outputs": [],
   "source": [
    "! export PASSPOSTGRES=\"\""
   ]
  },
  {
   "cell_type": "code",
   "execution_count": null,
   "metadata": {},
   "outputs": [],
   "source": [
    "! python3 src/create_db.py"
   ]
  },
  {
   "cell_type": "markdown",
   "metadata": {},
   "source": [
    "Le nom de la base de données choisie est à repréciser dans src/models.py"
   ]
  },
  {
   "cell_type": "markdown",
   "metadata": {},
   "source": [
    "To run the flask application, execture the app.py script from within the src folder"
   ]
  },
  {
   "cell_type": "markdown",
   "metadata": {},
   "source": [
    "### Explication du code"
   ]
  },
  {
   "cell_type": "markdown",
   "metadata": {},
   "source": [
    "Script models.py makes use of flask's ORM extension flask-sqlalchemy to model the desired postresql tables Character and Hat. This helps us as we use python classes Character and Hat that inherit from db.Model\n",
    "We model a one-to-one relationship between tables hat and character via the ORM"
   ]
  },
  {
   "cell_type": "markdown",
   "metadata": {},
   "source": [
    "Script rules_triggers.py holds a trigger allowing for an entry in table hat to be automatically deleted when the related row in table is."
   ]
  },
  {
   "cell_type": "markdown",
   "metadata": {},
   "source": [
    "Our API is a URL through which CRUD (Created, Read, Update, Delete) operations on the postgresql tables can be made by sending http methods POST, GET, PUT, DELETE. \n",
    "\n",
    "These can be performed to the following extentions. When necessary, a primary key can be specified in the extension\n",
    "- /apirestful/ \n",
    "- /apirestful/1  specify the primary key you wish to act on (for updates and read)\n",
    "- /apirestful/characters/\n",
    "- /apirestful/characters/1\n",
    "- /apirestful/hats/\n",
    "- /apirestful/hats/1"
   ]
  },
  {
   "cell_type": "markdown",
   "metadata": {},
   "source": [
    "Script app.py holds all functions that can be executed on these http requests.\n",
    "\n",
    "It also contains functions check_character_valid() and check_hat_valid(). These allow to reject any entries that do not obey the following rules:\n",
    "\n",
    "- age must be greater than zero\n",
    "- if human is true, and weight is greater than 80, age cannot be less than 10\n",
    "- if human is False, there cannot be a foreign key associated to the entry in hat\n",
    "- if name contains 'p', the related hat cannot be yellow\n"
   ]
  },
  {
   "cell_type": "markdown",
   "metadata": {},
   "source": [
    "Autoincrementation is used to attribute a primary key on creation"
   ]
  },
  {
   "cell_type": "code",
   "execution_count": null,
   "metadata": {},
   "outputs": [],
   "source": []
  }
 ],
 "metadata": {
  "kernelspec": {
   "display_name": "Python 3",
   "language": "python",
   "name": "python3"
  },
  "language_info": {
   "codemirror_mode": {
    "name": "ipython",
    "version": 3
   },
   "file_extension": ".py",
   "mimetype": "text/x-python",
   "name": "python",
   "nbconvert_exporter": "python",
   "pygments_lexer": "ipython3",
   "version": "3.6.9"
  }
 },
 "nbformat": 4,
 "nbformat_minor": 2
}
